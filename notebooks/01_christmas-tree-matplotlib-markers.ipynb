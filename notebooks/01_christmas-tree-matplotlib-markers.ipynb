{
 "cells": [
  {
   "cell_type": "markdown",
   "id": "809c11ac",
   "metadata": {},
   "source": [
    "# Christmas Tree using Matplotlib Markers\n",
    "\n",
    "Christmas tree created entirely out of Matplotlib markers."
   ]
  },
  {
   "cell_type": "code",
   "execution_count": 1,
   "id": "f23a7c92",
   "metadata": {},
   "outputs": [],
   "source": [
    "import matplotlib.pylab as plt"
   ]
  },
  {
   "cell_type": "code",
   "execution_count": 2,
   "id": "95efe9aa",
   "metadata": {},
   "outputs": [],
   "source": [
    "colors = {\n",
    "    \"trunk\": \"C5\",\n",
    "    \"star\": \"C1\",\n",
    "    \"leaves\": \"C2\",\n",
    "    \"baubles\": \"C3\",\n",
    "}"
   ]
  },
  {
   "cell_type": "code",
   "execution_count": 3,
   "id": "ca986fb4",
   "metadata": {},
   "outputs": [
    {
     "data": {
      "image/png": "[encoded data removed]",
      "text/plain": [
       "<Figure size 500x500 with 1 Axes>"
      ]
     },
     "metadata": {},
     "output_type": "display_data"
    }
   ],
   "source": [
    "fig, ax = plt.subplots(1, 1, figsize=(5, 5))\n",
    "\n",
    "d = 1e-2  # marker location increment\n",
    "s = 0.25e2  # marker size increment\n",
    "\n",
    "ax.plot(1, 1, marker=\"s\", markersize=s, color=colors[\"trunk\"])\n",
    "\n",
    "ax.plot(1, 1 + 2 * d, marker=\"^\", markersize=2 * s, color=colors[\"leaves\"])\n",
    "ax.plot(1, 1 + 1.5 * d, marker=\"^\", markersize=2.8 * s, color=colors[\"leaves\"])\n",
    "ax.plot(1, 1 + d, marker=\"^\", markersize=3.5 * s, color=colors[\"leaves\"])\n",
    "\n",
    "ax.plot(1, 1 + 2.5 * d, marker=\"*\", markersize=s, color=colors[\"star\"])\n",
    "\n",
    "baubles = [\n",
    "    [0.4, 0.5, 0.3 * s],\n",
    "    [0.1, 0.35, 0.2 * s],\n",
    "    [-0.4, 0.4, 0.3 * s],\n",
    "    [-0.2, 0.55, 0.2 * s],\n",
    "    [+0.15, 0.65, 0.3 * s],\n",
    "    [-0.05, 0.85, 0.2 * s],\n",
    "    [-0.3, 0.95, 0.2 * s],\n",
    "    [-0.2, 1.3, 0.3 * s],\n",
    "    [0.3, 1.0, 0.3 * s],\n",
    "    [0.05, 1.1, 0.3 * s],\n",
    "    [0.1, 1.4, 0.2 * s],\n",
    "    [0.15, 1.75, 0.2 * s],\n",
    "    [-0.15, 1.7, 0.3 * s],\n",
    "    [0, 2.0, 0.3 * s],\n",
    "]\n",
    "\n",
    "for dx, dy, s in baubles:\n",
    "    ax.plot(1 + dx * d, 1 + dy * d, marker=\"o\", markersize=s, color=colors[\"baubles\"])\n",
    "\n",
    "ax.set_ylim([0.99, 1.04])\n",
    "ax.set_xlim([0.98, 1.02]);"
   ]
  },
  {
   "cell_type": "code",
   "execution_count": null,
   "id": "727d6ab6",
   "metadata": {},
   "outputs": [],
   "source": []
  }
 ],
 "metadata": {
  "kernelspec": {
   "display_name": "Python 3 (ipykernel)",
   "language": "python",
   "name": "python3"
  },
  "language_info": {
   "codemirror_mode": {
    "name": "ipython",
    "version": 3
   },
   "file_extension": ".py",
   "mimetype": "text/x-python",
   "name": "python",
   "nbconvert_exporter": "python",
   "pygments_lexer": "ipython3",
   "version": "3.9.1"
  }
 },
 "nbformat": 4,
 "nbformat_minor": 5
}
